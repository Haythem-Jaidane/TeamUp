{
  "nbformat": 4,
  "nbformat_minor": 0,
  "metadata": {
    "colab": {
      "provenance": [],
      "authorship_tag": "ABX9TyNri7pH5+8tin3110Bt6CZz",
      "include_colab_link": true
    },
    "kernelspec": {
      "name": "python3",
      "display_name": "Python 3"
    },
    "language_info": {
      "name": "python"
    }
  },
  "cells": [
    {
      "cell_type": "markdown",
      "metadata": {
        "id": "view-in-github",
        "colab_type": "text"
      },
      "source": [
        "<a href=\"https://colab.research.google.com/github/Haythem-Jaidane/TeamUp/blob/main/UPSIDE_EDUCATHON.ipynb\" target=\"_parent\"><img src=\"https://colab.research.google.com/assets/colab-badge.svg\" alt=\"Open In Colab\"/></a>"
      ]
    },
    {
      "cell_type": "code",
      "execution_count": 1,
      "metadata": {
        "id": "CY7gmBFVDHlD"
      },
      "outputs": [],
      "source": [
        "import numpy as np\n",
        "D={'ESTP':0,\t'ISTP':1,\t'ESFP':2,\t'ISFP':3,\t'ESTJ':4,\t'ISTJ':5,\t'ESFJ':6,\t'ISFJ':7,\t'ENFP':8,\t'INFP':9,\t'ENFJ':10,\t'INFJ':11,\t'ENTP':12,\t'INTP':13,\t'ENTJ':14,\t'INTJ':15}\n",
        "M=np.zeros((16,16))"
      ]
    },
    {
      "cell_type": "code",
      "source": [
        "for i in range(16):\n",
        "  M[i][i]=2\n",
        "  for j in range(16):\n",
        "    if M[i][j]==0:\n",
        "      M[i][j]=1\n",
        "\n",
        "M[10][0]=2\n",
        "M[11][0]=2\n",
        "M[10][1]=2\n",
        "M[11][1]=2\n",
        "\n",
        "M[14][2]=2\n",
        "M[15][2]=2\n",
        "M[14][3]=2\n",
        "M[15][3]=2\n",
        "\n",
        "M[8][4]=2\n",
        "M[8][5]=2\n",
        "M[9][4]=2\n",
        "M[9][5]=2\n",
        "\n",
        "M[12][6]=2\n",
        "M[12][7]=2\n",
        "M[13][6]=2\n",
        "M[13][7]=2\n",
        "\n",
        "##########\n",
        "\n",
        "M[0][10]=2\n",
        "M[0][11]=2\n",
        "M[1][10]=2\n",
        "M[1][11]=2\n",
        "\n",
        "M[2][14]=2\n",
        "M[2][15]=2\n",
        "M[3][14]=2\n",
        "M[3][15]=2\n",
        "\n",
        "M[4][8]=2\n",
        "M[4][9]=2\n",
        "M[5][8]=2\n",
        "M[5][9]=2\n",
        "\n",
        "M[6][12]=2\n",
        "M[6][13]=2\n",
        "M[7][12]=2\n",
        "M[7][13]=2\n",
        "\n",
        "#####################\n",
        "\n",
        "M[0][2]=0\n",
        "M[0][3]=0\n",
        "M[1][2]=0\n",
        "M[1][3]=0\n",
        "\n",
        "M[2][0]=0\n",
        "M[2][1]=0\n",
        "M[3][0]=0\n",
        "M[3][1]=0\n",
        "\n",
        "########\n",
        "\n",
        "M[0][8]=0\n",
        "M[0][9]=0\n",
        "M[1][8]=0\n",
        "M[1][9]=0\n",
        "\n",
        "M[8][0]=0\n",
        "M[8][1]=0\n",
        "M[9][0]=0\n",
        "M[9][1]=0\n",
        "\n",
        "#########\n",
        "\n",
        "M[2][12]=0\n",
        "M[2][13]=0\n",
        "M[3][12]=0\n",
        "M[3][13]=0\n",
        "\n",
        "M[12][2]=0\n",
        "M[12][3]=0\n",
        "M[13][2]=0\n",
        "M[13][3]=0\n",
        "\n",
        "#########\n",
        "\n",
        "M[4][6]=0\n",
        "M[4][7]=0\n",
        "M[5][6]=0\n",
        "M[5][7]=0\n",
        "\n",
        "M[4][10]=0\n",
        "M[4][11]=0\n",
        "M[5][10]=0\n",
        "M[5][11]=0\n",
        "\n",
        "M[6][4]=0\n",
        "M[6][5]=0\n",
        "M[7][4]=0\n",
        "M[7][5]=0\n",
        "\n",
        "M[10][4]=0\n",
        "M[10][5]=0\n",
        "M[11][4]=0\n",
        "M[11][5]=0\n",
        "\n",
        "#########\n",
        "\n",
        "M[6][14]=0\n",
        "M[6][15]=0\n",
        "M[7][14]=0\n",
        "M[7][15]=0\n",
        "\n",
        "M[14][6]=0\n",
        "M[14][7]=0\n",
        "M[15][6]=0\n",
        "M[15][7]=0\n",
        "\n",
        "#########\n",
        "\n",
        "M[8][12]=0\n",
        "M[8][13]=0\n",
        "M[9][12]=0\n",
        "M[9][13]=0\n",
        "\n",
        "M[12][8]=0\n",
        "M[12][9]=0\n",
        "M[13][8]=0\n",
        "M[13][9]=0\n",
        "\n",
        "#########\n",
        "\n",
        "M[10][14]=0\n",
        "M[10][15]=0\n",
        "M[11][14]=0\n",
        "M[11][15]=0\n",
        "\n",
        "M[14][10]=0\n",
        "M[14][11]=0\n",
        "M[15][10]=0\n",
        "M[15][11]=0\n",
        "\n",
        "########################\n",
        "\n",
        "for i in range(2,6):\n",
        "  for j in range(2,6):\n",
        "    M[i][j]=3\n",
        "    M[i][i]=2\n",
        "M[0][1]=3\n",
        "M[1][0]=3\n",
        "\n",
        "\n",
        "M[0][6]=3\n",
        "M[0][7]=3\n",
        "M[1][6]=3\n",
        "M[1][7]=3\n",
        "\n",
        "M[6][0]=3\n",
        "M[6][1]=3\n",
        "M[7][0]=3\n",
        "M[7][1]=3\n",
        "\n",
        "#########\n",
        "\n",
        "M[6][7]=3\n",
        "M[7][6]=3\n",
        "\n",
        "M[8][9]=3\n",
        "M[9][8]=3\n",
        "\n",
        "M[8][14]=3\n",
        "M[8][15]=3\n",
        "M[9][14]=3\n",
        "M[9][15]=3\n",
        "\n",
        "M[14][8]=3\n",
        "M[14][9]=3\n",
        "M[15][8]=3\n",
        "M[15][9]=3\n",
        "\n",
        "#########\n",
        "\n",
        "for i in range(10,14):\n",
        "  for j in range(10,14):\n",
        "    M[i][j]=3\n",
        "    M[i][i]=2\n",
        "M[14][15]=3\n",
        "M[15][14]=3\n",
        "\n",
        "M"
      ],
      "metadata": {
        "colab": {
          "base_uri": "https://localhost:8080/"
        },
        "id": "Y-OMXbk4Nt3H",
        "outputId": "b9310bab-601c-434c-e7cd-bb21cfbb7865"
      },
      "execution_count": 2,
      "outputs": [
        {
          "output_type": "execute_result",
          "data": {
            "text/plain": [
              "array([[2., 3., 0., 0., 1., 1., 3., 3., 0., 0., 2., 2., 1., 1., 1., 1.],\n",
              "       [3., 2., 0., 0., 1., 1., 3., 3., 0., 0., 2., 2., 1., 1., 1., 1.],\n",
              "       [0., 0., 2., 3., 3., 3., 1., 1., 1., 1., 1., 1., 0., 0., 2., 2.],\n",
              "       [0., 0., 3., 2., 3., 3., 1., 1., 1., 1., 1., 1., 0., 0., 2., 2.],\n",
              "       [1., 1., 3., 3., 2., 3., 0., 0., 2., 2., 0., 0., 1., 1., 1., 1.],\n",
              "       [1., 1., 3., 3., 3., 2., 0., 0., 2., 2., 0., 0., 1., 1., 1., 1.],\n",
              "       [3., 3., 1., 1., 0., 0., 2., 3., 1., 1., 1., 1., 2., 2., 0., 0.],\n",
              "       [3., 3., 1., 1., 0., 0., 3., 2., 1., 1., 1., 1., 2., 2., 0., 0.],\n",
              "       [0., 0., 1., 1., 2., 2., 1., 1., 2., 3., 1., 1., 0., 0., 3., 3.],\n",
              "       [0., 0., 1., 1., 2., 2., 1., 1., 3., 2., 1., 1., 0., 0., 3., 3.],\n",
              "       [2., 2., 1., 1., 0., 0., 1., 1., 1., 1., 2., 3., 3., 3., 0., 0.],\n",
              "       [2., 2., 1., 1., 0., 0., 1., 1., 1., 1., 3., 2., 3., 3., 0., 0.],\n",
              "       [1., 1., 0., 0., 1., 1., 2., 2., 0., 0., 3., 3., 2., 3., 1., 1.],\n",
              "       [1., 1., 0., 0., 1., 1., 2., 2., 0., 0., 3., 3., 3., 2., 1., 1.],\n",
              "       [1., 1., 2., 2., 1., 1., 0., 0., 3., 3., 0., 0., 1., 1., 2., 3.],\n",
              "       [1., 1., 2., 2., 1., 1., 0., 0., 3., 3., 0., 0., 1., 1., 3., 2.]])"
            ]
          },
          "metadata": {},
          "execution_count": 2
        }
      ]
    },
    {
      "cell_type": "code",
      "source": [
        "D1={'ESTP':4.3,\t'ISTP':5.4,\t'ESFP':8.5,\t'ISFP':8.8,\t'ESTJ':8.7,\t'ISTJ':11.6,\t'ESFJ':12,\t'ISFJ':13.8,\t'ENFP':8.1,\t'INFP':4.4,\t'ENFJ':2.5,\t'INFJ':1.5,\t'ENTP':3.2,\t'INTP':3.3,\t'ENTJ':1.8,\t'INTJ':2.1}\n",
        "D1.keys()"
      ],
      "metadata": {
        "id": "r-EIVSqjrmGa",
        "colab": {
          "base_uri": "https://localhost:8080/"
        },
        "outputId": "52df2c41-3c10-4ff6-d2a7-c28b9432e422"
      },
      "execution_count": 3,
      "outputs": [
        {
          "output_type": "execute_result",
          "data": {
            "text/plain": [
              "dict_keys(['ESTP', 'ISTP', 'ESFP', 'ISFP', 'ESTJ', 'ISTJ', 'ESFJ', 'ISFJ', 'ENFP', 'INFP', 'ENFJ', 'INFJ', 'ENTP', 'INTP', 'ENTJ', 'INTJ'])"
            ]
          },
          "metadata": {},
          "execution_count": 3
        }
      ]
    },
    {
      "cell_type": "code",
      "source": [
        "c=0\n",
        "for i in D1.keys():\n",
        "  c+=round(D1[i])\n",
        "c"
      ],
      "metadata": {
        "colab": {
          "base_uri": "https://localhost:8080/"
        },
        "id": "nhADE2IbxrXj",
        "outputId": "196b7d71-fc86-4437-e041-b866f04564a2"
      },
      "execution_count": 4,
      "outputs": [
        {
          "output_type": "execute_result",
          "data": {
            "text/plain": [
              "99"
            ]
          },
          "metadata": {},
          "execution_count": 4
        }
      ]
    },
    {
      "cell_type": "code",
      "source": [
        "i=0\n",
        "Data=np.zeros((100))\n",
        "for j in D1.keys():\n",
        "  for k in range(round(D1[j])):\n",
        "    Data[i]=D[j]\n",
        "    i+=1"
      ],
      "metadata": {
        "id": "axqJPeO5yezJ"
      },
      "execution_count": 5,
      "outputs": []
    },
    {
      "cell_type": "code",
      "source": [
        "print(len(Data))\n",
        "Data #Our generated database of personalities"
      ],
      "metadata": {
        "colab": {
          "base_uri": "https://localhost:8080/"
        },
        "id": "hayyFADe5RqW",
        "outputId": "dc4df7a7-2f55-4b4c-e275-85ef498a389b"
      },
      "execution_count": 6,
      "outputs": [
        {
          "output_type": "stream",
          "name": "stdout",
          "text": [
            "100\n"
          ]
        },
        {
          "output_type": "execute_result",
          "data": {
            "text/plain": [
              "array([ 0.,  0.,  0.,  0.,  1.,  1.,  1.,  1.,  1.,  2.,  2.,  2.,  2.,\n",
              "        2.,  2.,  2.,  2.,  3.,  3.,  3.,  3.,  3.,  3.,  3.,  3.,  3.,\n",
              "        4.,  4.,  4.,  4.,  4.,  4.,  4.,  4.,  4.,  5.,  5.,  5.,  5.,\n",
              "        5.,  5.,  5.,  5.,  5.,  5.,  5.,  5.,  6.,  6.,  6.,  6.,  6.,\n",
              "        6.,  6.,  6.,  6.,  6.,  6.,  6.,  7.,  7.,  7.,  7.,  7.,  7.,\n",
              "        7.,  7.,  7.,  7.,  7.,  7.,  7.,  7.,  8.,  8.,  8.,  8.,  8.,\n",
              "        8.,  8.,  8.,  9.,  9.,  9.,  9., 10., 10., 11., 11., 12., 12.,\n",
              "       12., 13., 13., 13., 14., 14., 15., 15.,  0.])"
            ]
          },
          "metadata": {},
          "execution_count": 6
        }
      ]
    },
    {
      "cell_type": "code",
      "source": [
        "#Compatible personalities\n",
        "ComP={}\n",
        "for i in range(16):\n",
        "  L=[]\n",
        "  for j in range(16):\n",
        "    if M[i][j]!=0:\n",
        "      L.append(j)\n",
        "  ComP[i]=np.asarray(L)\n",
        "ComP"
      ],
      "metadata": {
        "colab": {
          "base_uri": "https://localhost:8080/"
        },
        "id": "zuv2pW4zjvFz",
        "outputId": "64a1f1a1-d756-447e-f06e-c1e5750112ef"
      },
      "execution_count": 7,
      "outputs": [
        {
          "output_type": "execute_result",
          "data": {
            "text/plain": [
              "{0: array([ 0,  1,  4,  5,  6,  7, 10, 11, 12, 13, 14, 15]),\n",
              " 1: array([ 0,  1,  4,  5,  6,  7, 10, 11, 12, 13, 14, 15]),\n",
              " 2: array([ 2,  3,  4,  5,  6,  7,  8,  9, 10, 11, 14, 15]),\n",
              " 3: array([ 2,  3,  4,  5,  6,  7,  8,  9, 10, 11, 14, 15]),\n",
              " 4: array([ 0,  1,  2,  3,  4,  5,  8,  9, 12, 13, 14, 15]),\n",
              " 5: array([ 0,  1,  2,  3,  4,  5,  8,  9, 12, 13, 14, 15]),\n",
              " 6: array([ 0,  1,  2,  3,  6,  7,  8,  9, 10, 11, 12, 13]),\n",
              " 7: array([ 0,  1,  2,  3,  6,  7,  8,  9, 10, 11, 12, 13]),\n",
              " 8: array([ 2,  3,  4,  5,  6,  7,  8,  9, 10, 11, 14, 15]),\n",
              " 9: array([ 2,  3,  4,  5,  6,  7,  8,  9, 10, 11, 14, 15]),\n",
              " 10: array([ 0,  1,  2,  3,  6,  7,  8,  9, 10, 11, 12, 13]),\n",
              " 11: array([ 0,  1,  2,  3,  6,  7,  8,  9, 10, 11, 12, 13]),\n",
              " 12: array([ 0,  1,  4,  5,  6,  7, 10, 11, 12, 13, 14, 15]),\n",
              " 13: array([ 0,  1,  4,  5,  6,  7, 10, 11, 12, 13, 14, 15]),\n",
              " 14: array([ 0,  1,  2,  3,  4,  5,  8,  9, 12, 13, 14, 15]),\n",
              " 15: array([ 0,  1,  2,  3,  4,  5,  8,  9, 12, 13, 14, 15])}"
            ]
          },
          "metadata": {},
          "execution_count": 7
        }
      ]
    },
    {
      "cell_type": "code",
      "source": [
        "x=int(input('Give me the number of the team members: '))\n",
        "l=len(Data)\n",
        "InATeam=[]\n",
        "Teams=[]\n",
        "while l>0:\n",
        "  ListOfArrays=[]\n",
        "  for i in range(len(Data)):\n",
        "    if not (i in InATeam):\n",
        "      L=[i]\n",
        "      for j in range(len(Data)):\n",
        "        if ((i!=j) and (Data[j] in ComP[Data[i]]) and not (j in InATeam)):\n",
        "          L.append(j)\n",
        "      ListOfArrays.append(np.asarray(L))\n",
        "  LenLOA=[]\n",
        "  for i in range(len(ListOfArrays)):\n",
        "    LenLOA.append(len(ListOfArrays[i]))\n",
        "  Min=np.argmin(LenLOA)\n",
        "  T=[ListOfArrays[Min][0],ListOfArrays[Min][1],ListOfArrays[Min][2],ListOfArrays[Min][3],ListOfArrays[Min][4]]\n",
        "  Teams.append(T)\n",
        "  for i in range(x):\n",
        "    InATeam.append(ListOfArrays[Min][i])\n",
        "  l-=5"
      ],
      "metadata": {
        "colab": {
          "base_uri": "https://localhost:8080/"
        },
        "id": "rFUxRYSpBdlQ",
        "outputId": "08dbdd4f-ceb6-4234-e78b-f8e9518b042a"
      },
      "execution_count": 27,
      "outputs": [
        {
          "output_type": "stream",
          "name": "stdout",
          "text": [
            "Give me the number of the team members: 5\n",
            "95\n",
            "90\n",
            "85\n",
            "80\n",
            "75\n",
            "70\n",
            "65\n",
            "60\n",
            "55\n",
            "50\n",
            "45\n",
            "40\n",
            "35\n",
            "30\n",
            "25\n",
            "20\n",
            "15\n",
            "10\n",
            "5\n",
            "0\n"
          ]
        }
      ]
    },
    {
      "cell_type": "code",
      "source": [
        "Teams"
      ],
      "metadata": {
        "colab": {
          "base_uri": "https://localhost:8080/"
        },
        "id": "FjFYd34gt9mU",
        "outputId": "be64e665-70ac-4909-cf2a-1a2e838ed685"
      },
      "execution_count": 28,
      "outputs": [
        {
          "output_type": "execute_result",
          "data": {
            "text/plain": [
              "[[26, 0, 1, 2, 3],\n",
              " [27, 4, 5, 6, 7],\n",
              " [28, 8, 9, 10, 11],\n",
              " [29, 12, 13, 14, 15],\n",
              " [30, 16, 17, 18, 19],\n",
              " [31, 20, 21, 22, 23],\n",
              " [32, 24, 25, 33, 34],\n",
              " [35, 36, 37, 38, 39],\n",
              " [40, 41, 42, 43, 44],\n",
              " [45, 46, 73, 74, 75],\n",
              " [95, 76, 77, 78, 79],\n",
              " [96, 80, 81, 82, 83],\n",
              " [97, 84, 89, 90, 91],\n",
              " [98, 92, 93, 94, 99],\n",
              " [47, 48, 49, 50, 51],\n",
              " [52, 53, 54, 55, 56],\n",
              " [57, 58, 59, 60, 61],\n",
              " [62, 63, 64, 65, 66],\n",
              " [67, 68, 69, 70, 71],\n",
              " [72, 85, 86, 87, 88]]"
            ]
          },
          "metadata": {},
          "execution_count": 28
        }
      ]
    },
    {
      "cell_type": "markdown",
      "source": [
        "#Ressources:\n",
        "* https://personalitymax.com/personality-types/population-gender/\n",
        "* https://www.typematchapp.com/16-personalities-compatibility-chart-2/"
      ],
      "metadata": {
        "id": "9AkRDb6HyKpw"
      }
    }
  ]
}