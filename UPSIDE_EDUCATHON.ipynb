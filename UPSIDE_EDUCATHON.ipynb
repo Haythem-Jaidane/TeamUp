{
  "nbformat": 4,
  "nbformat_minor": 0,
  "metadata": {
    "colab": {
      "provenance": [],
      "authorship_tag": "ABX9TyM6CeQlLSAMsBJefGntyRP+",
      "include_colab_link": true
    },
    "kernelspec": {
      "name": "python3",
      "display_name": "Python 3"
    },
    "language_info": {
      "name": "python"
    }
  },
  "cells": [
    {
      "cell_type": "markdown",
      "metadata": {
        "id": "view-in-github",
        "colab_type": "text"
      },
      "source": [
        "<a href=\"https://colab.research.google.com/github/Haythem-Jaidane/TeamUp/blob/main/UPSIDE_EDUCATHON.ipynb\" target=\"_parent\"><img src=\"https://colab.research.google.com/assets/colab-badge.svg\" alt=\"Open In Colab\"/></a>"
      ]
    },
    {
      "cell_type": "code",
      "execution_count": null,
      "metadata": {
        "id": "CY7gmBFVDHlD"
      },
      "outputs": [],
      "source": [
        "import numpy as np\n",
        "D={'ESTP':0,\t'ISTP':1,\t'ESFP':2,\t'ISFP':3,\t'ESTJ':4,\t'ISTJ':5,\t'ESFJ':6,\t'ISFJ':7,\t'ENFP':8,\t'INFP':9,\t'ENFJ':10,\t'INFJ':11,\t'ENTP':12,\t'INTP':13,\t'ENTJ':14,\t'INTJ':15}\n",
        "M=np.zeros((16,16))"
      ]
    },
    {
      "cell_type": "code",
      "source": [
        "for i in range(16):\n",
        "  M[i][i]=2\n",
        "  for j in range(16):\n",
        "    if M[i][j]==0:\n",
        "      M[i][j]=1\n",
        "\n",
        "M[10][0]=2\n",
        "M[11][0]=2\n",
        "M[10][1]=2\n",
        "M[11][1]=2\n",
        "\n",
        "M[14][2]=2\n",
        "M[15][2]=2\n",
        "M[14][3]=2\n",
        "M[15][3]=2\n",
        "\n",
        "M[8][4]=2\n",
        "M[8][5]=2\n",
        "M[9][4]=2\n",
        "M[9][5]=2\n",
        "\n",
        "M[12][6]=2\n",
        "M[12][7]=2\n",
        "M[13][6]=2\n",
        "M[13][7]=2\n",
        "\n",
        "##########\n",
        "\n",
        "M[0][10]=2\n",
        "M[0][11]=2\n",
        "M[1][10]=2\n",
        "M[1][11]=2\n",
        "\n",
        "M[2][14]=2\n",
        "M[2][15]=2\n",
        "M[3][14]=2\n",
        "M[3][15]=2\n",
        "\n",
        "M[4][8]=2\n",
        "M[4][9]=2\n",
        "M[5][8]=2\n",
        "M[5][9]=2\n",
        "\n",
        "M[6][12]=2\n",
        "M[6][13]=2\n",
        "M[7][12]=2\n",
        "M[7][13]=2\n",
        "\n",
        "#####################\n",
        "\n",
        "M[0][2]=0\n",
        "M[0][3]=0\n",
        "M[1][2]=0\n",
        "M[1][3]=0\n",
        "\n",
        "M[2][0]=0\n",
        "M[2][1]=0\n",
        "M[3][0]=0\n",
        "M[3][1]=0\n",
        "\n",
        "########\n",
        "\n",
        "M[0][8]=0\n",
        "M[0][9]=0\n",
        "M[1][8]=0\n",
        "M[1][9]=0\n",
        "\n",
        "M[8][0]=0\n",
        "M[8][1]=0\n",
        "M[9][0]=0\n",
        "M[9][1]=0\n",
        "\n",
        "#########\n",
        "\n",
        "M[2][12]=0\n",
        "M[2][13]=0\n",
        "M[3][12]=0\n",
        "M[3][13]=0\n",
        "\n",
        "M[12][2]=0\n",
        "M[12][3]=0\n",
        "M[13][2]=0\n",
        "M[13][3]=0\n",
        "\n",
        "#########\n",
        "\n",
        "M[4][6]=0\n",
        "M[4][7]=0\n",
        "M[5][6]=0\n",
        "M[5][7]=0\n",
        "\n",
        "M[4][10]=0\n",
        "M[4][11]=0\n",
        "M[5][10]=0\n",
        "M[5][11]=0\n",
        "\n",
        "M[6][4]=0\n",
        "M[6][5]=0\n",
        "M[7][4]=0\n",
        "M[7][5]=0\n",
        "\n",
        "M[10][4]=0\n",
        "M[10][5]=0\n",
        "M[11][4]=0\n",
        "M[11][5]=0\n",
        "\n",
        "#########\n",
        "\n",
        "M[6][14]=0\n",
        "M[6][15]=0\n",
        "M[7][14]=0\n",
        "M[7][15]=0\n",
        "\n",
        "M[14][6]=0\n",
        "M[14][7]=0\n",
        "M[15][6]=0\n",
        "M[15][7]=0\n",
        "\n",
        "#########\n",
        "\n",
        "M[8][12]=0\n",
        "M[8][13]=0\n",
        "M[9][12]=0\n",
        "M[9][13]=0\n",
        "\n",
        "M[12][8]=0\n",
        "M[12][9]=0\n",
        "M[13][8]=0\n",
        "M[13][9]=0\n",
        "\n",
        "#########\n",
        "\n",
        "M[10][14]=0\n",
        "M[10][15]=0\n",
        "M[11][14]=0\n",
        "M[11][15]=0\n",
        "\n",
        "M[14][10]=0\n",
        "M[14][11]=0\n",
        "M[15][10]=0\n",
        "M[15][11]=0\n",
        "\n",
        "########################\n",
        "\n",
        "for i in range(2,6):\n",
        "  for j in range(2,6):\n",
        "    M[i][j]=3\n",
        "    M[i][i]=2\n",
        "M[0][1]=3\n",
        "M[1][0]=3\n",
        "\n",
        "\n",
        "M[0][6]=3\n",
        "M[0][7]=3\n",
        "M[1][6]=3\n",
        "M[1][7]=3\n",
        "\n",
        "M[6][0]=3\n",
        "M[6][1]=3\n",
        "M[7][0]=3\n",
        "M[7][1]=3\n",
        "\n",
        "#########\n",
        "\n",
        "M[6][7]=3\n",
        "M[7][6]=3\n",
        "\n",
        "M[8][9]=3\n",
        "M[9][8]=3\n",
        "\n",
        "M[8][14]=3\n",
        "M[8][15]=3\n",
        "M[9][14]=3\n",
        "M[9][15]=3\n",
        "\n",
        "M[14][8]=3\n",
        "M[14][9]=3\n",
        "M[15][8]=3\n",
        "M[15][9]=3\n",
        "\n",
        "#########\n",
        "\n",
        "for i in range(10,14):\n",
        "  for j in range(10,14):\n",
        "    M[i][j]=3\n",
        "    M[i][i]=2\n",
        "M[14][15]=3\n",
        "M[15][14]=3\n",
        "\n",
        "M"
      ],
      "metadata": {
        "colab": {
          "base_uri": "https://localhost:8080/"
        },
        "id": "Y-OMXbk4Nt3H",
        "outputId": "b73dcd8b-94ce-4a91-f646-2d44c3bb498f"
      },
      "execution_count": null,
      "outputs": [
        {
          "output_type": "execute_result",
          "data": {
            "text/plain": [
              "array([[2., 3., 0., 0., 1., 1., 3., 3., 0., 0., 2., 2., 1., 1., 1., 1.],\n",
              "       [3., 2., 0., 0., 1., 1., 3., 3., 0., 0., 2., 2., 1., 1., 1., 1.],\n",
              "       [0., 0., 2., 3., 3., 3., 1., 1., 1., 1., 1., 1., 0., 0., 2., 2.],\n",
              "       [0., 0., 3., 2., 3., 3., 1., 1., 1., 1., 1., 1., 0., 0., 2., 2.],\n",
              "       [1., 1., 3., 3., 2., 3., 0., 0., 2., 2., 0., 0., 1., 1., 1., 1.],\n",
              "       [1., 1., 3., 3., 3., 2., 0., 0., 2., 2., 0., 0., 1., 1., 1., 1.],\n",
              "       [3., 3., 1., 1., 0., 0., 2., 3., 1., 1., 1., 1., 2., 2., 0., 0.],\n",
              "       [3., 3., 1., 1., 0., 0., 3., 2., 1., 1., 1., 1., 2., 2., 0., 0.],\n",
              "       [0., 0., 1., 1., 2., 2., 1., 1., 2., 3., 1., 1., 0., 0., 3., 3.],\n",
              "       [0., 0., 1., 1., 2., 2., 1., 1., 3., 2., 1., 1., 0., 0., 3., 3.],\n",
              "       [2., 2., 1., 1., 0., 0., 1., 1., 1., 1., 2., 3., 3., 3., 0., 0.],\n",
              "       [2., 2., 1., 1., 0., 0., 1., 1., 1., 1., 3., 2., 3., 3., 0., 0.],\n",
              "       [1., 1., 0., 0., 1., 1., 2., 2., 0., 0., 3., 3., 2., 3., 1., 1.],\n",
              "       [1., 1., 0., 0., 1., 1., 2., 2., 0., 0., 3., 3., 3., 2., 1., 1.],\n",
              "       [1., 1., 2., 2., 1., 1., 0., 0., 3., 3., 0., 0., 1., 1., 2., 3.],\n",
              "       [1., 1., 2., 2., 1., 1., 0., 0., 3., 3., 0., 0., 1., 1., 3., 2.]])"
            ]
          },
          "metadata": {},
          "execution_count": 6
        }
      ]
    },
    {
      "cell_type": "code",
      "source": [
        "D1={'ESTP':4.3,\t'ISTP':5.4,\t'ESFP':8.5,\t'ISFP':8.8,\t'ESTJ':8.7,\t'ISTJ':11.6,\t'ESFJ':12,\t'ISFJ':13.8,\t'ENFP':8.1,\t'INFP':4.4,\t'ENFJ':2.5,\t'INFJ':1.5,\t'ENTP':3.2,\t'INTP':3.3,\t'ENTJ':1.8,\t'INTJ':2.1}\n",
        "D1.keys()"
      ],
      "metadata": {
        "id": "r-EIVSqjrmGa",
        "colab": {
          "base_uri": "https://localhost:8080/"
        },
        "outputId": "517fcfc0-b29a-4e2d-d4df-1e16884e7024"
      },
      "execution_count": 7,
      "outputs": [
        {
          "output_type": "execute_result",
          "data": {
            "text/plain": [
              "dict_keys(['ESTP', 'ISTP', 'ESFP', 'ISFP', 'ESTJ', 'ISTJ', 'ESFJ', 'ISFJ', 'ENFP', 'INFP', 'ENFJ', 'INFJ', 'ENTP', 'INTP', 'ENTJ', 'INTJ'])"
            ]
          },
          "metadata": {},
          "execution_count": 7
        }
      ]
    },
    {
      "cell_type": "code",
      "source": [
        "c=0\n",
        "for i in D1.keys():\n",
        "  c+=round(D1[i])\n",
        "c"
      ],
      "metadata": {
        "colab": {
          "base_uri": "https://localhost:8080/"
        },
        "id": "nhADE2IbxrXj",
        "outputId": "82f12ed6-d006-439d-e4eb-ae277e982260"
      },
      "execution_count": 8,
      "outputs": [
        {
          "output_type": "execute_result",
          "data": {
            "text/plain": [
              "99"
            ]
          },
          "metadata": {},
          "execution_count": 8
        }
      ]
    },
    {
      "cell_type": "code",
      "source": [
        "i=0\n",
        "Data=np.zeros((99))\n",
        "for j in D1.keys():\n",
        "  for k in range(round(D1[j])):\n",
        "    Data[i]=D[j]\n",
        "    i+=1"
      ],
      "metadata": {
        "id": "axqJPeO5yezJ"
      },
      "execution_count": 23,
      "outputs": []
    },
    {
      "cell_type": "code",
      "source": [
        "print(len(Data))\n",
        "Data #Our generated database of personalities"
      ],
      "metadata": {
        "colab": {
          "base_uri": "https://localhost:8080/"
        },
        "id": "hayyFADe5RqW",
        "outputId": "a45e77bc-2453-4356-dcb5-79780794e8f6"
      },
      "execution_count": 27,
      "outputs": [
        {
          "output_type": "stream",
          "name": "stdout",
          "text": [
            "99\n"
          ]
        },
        {
          "output_type": "execute_result",
          "data": {
            "text/plain": [
              "array([ 0.,  0.,  0.,  0.,  1.,  1.,  1.,  1.,  1.,  2.,  2.,  2.,  2.,\n",
              "        2.,  2.,  2.,  2.,  3.,  3.,  3.,  3.,  3.,  3.,  3.,  3.,  3.,\n",
              "        4.,  4.,  4.,  4.,  4.,  4.,  4.,  4.,  4.,  5.,  5.,  5.,  5.,\n",
              "        5.,  5.,  5.,  5.,  5.,  5.,  5.,  5.,  6.,  6.,  6.,  6.,  6.,\n",
              "        6.,  6.,  6.,  6.,  6.,  6.,  6.,  7.,  7.,  7.,  7.,  7.,  7.,\n",
              "        7.,  7.,  7.,  7.,  7.,  7.,  7.,  7.,  8.,  8.,  8.,  8.,  8.,\n",
              "        8.,  8.,  8.,  9.,  9.,  9.,  9., 10., 10., 11., 11., 12., 12.,\n",
              "       12., 13., 13., 13., 14., 14., 15., 15.])"
            ]
          },
          "metadata": {},
          "execution_count": 27
        }
      ]
    }
  ]
}